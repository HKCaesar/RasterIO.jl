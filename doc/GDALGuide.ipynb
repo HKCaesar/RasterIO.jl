{
 "cells": [
  {
   "cell_type": "markdown",
   "metadata": {},
   "source": [
    "# Introduction\n",
    "\n",
    "This Quick Guide is based on the workshop in http://download.osgeo.org/gdal/workshop/foss4ge2015/workshop_gdal.pdf"
   ]
  },
  {
   "cell_type": "markdown",
   "metadata": {},
   "source": [
    "# LICENSE and Copyrights\n",
    "This document is authored by Even Rouault and (C) Copyright Spatialys 2015. It is licenced\n",
    "under Creative Commons Attribution 3.0 (or any later version at the licensee choice) :\n",
    "https://creativecommons.org/licenses/by/3.0/.\n",
    "\n",
    "Links to documentation in this tutorial used the versioned documentation for GDAL 1.11\n",
    "(http://gdal.org/1.11/). For the documentation of the latest version (generally in\n",
    "development), remove the « 1.11/ »\n",
    "\n",
    "Workshop data used and associated rights:\n",
    "- `paris.tif` : extract of OpenStreetMap. (C) OpenStreetMap contributors :\n",
    "http://www.openstreetmap.org/copyright\n",
    "- `world.tif` : from OSGeo-Live sample data\n",
    "- `ne_10m_admin_0_countries.*` and `ne_10m_admin_1_states_provinces_shp.*`: from\n",
    "OSGeo -Live sample data (and originally from http://www.naturalearthdata.com,\n",
    "public domain)\n",
    "- `wellington_west` and `wellington_east.png` : derived from\n",
    "https://data.linz.govt.nz/layer/1870-wellington-03m-rural-aerial-photos-2012-2013 ,\n",
    "Licensed by Wellington Regional Council for reuse under the Creative Commons\n",
    "Attribution 3.0 New Zealand licence (https://data.linz.govt.nz/license/attribution-3-0-\n",
    "new-zealand/). For the purpose of this workshop, they have been post-processed to\n",
    "decrease their resolution, reduce to 256 colors, add collars and convert to PNG.\n",
    "- `MK_30m.tif` and `ML_30m.tif` : derived from https://data.linz.govt.nz/layer/1768-nz-\n",
    "8m-digital-elevation-model-2012/ . License Creative Commons Attribution 3.0 New\n",
    "Zealand (https://data.linz.govt.nz/license/attribution-3-0-new-zealand/). For the\n",
    "purpose of this workshop, they have been post-processed to decrease their resolution.\n",
    "- `geomatrix.tif`: from GDAL autotest suite. X/MIT License\n",
    "- `m2frac10bit.l1b` : from GDAL extended data test suite, X/MIT License (http://download.osgeo.org/gdal/data/l1b/m2frac10bit.l1b)"
   ]
  },
  {
   "cell_type": "markdown",
   "metadata": {},
   "source": [
    "# Prerequisites\n",
    "- GDAL 1.11.1 or later, with RasterIO.jl installed.\n",
    "- Workshop test data. Available at http://download.osgeo.org/gdal/workshop/foss4ge2015/workshop_data.zip\n",
    "- A JuPyTer notebook opened in the directory with the workshop test data"
   ]
  },
  {
   "cell_type": "code",
   "execution_count": 1,
   "metadata": {
    "collapsed": false
   },
   "outputs": [
    {
     "name": "stdout",
     "output_type": "stream",
     "text": [
      "gdalworkshop/MK_30m.tif\n",
      "gdalworkshop/ML_30m.tif\n",
      "gdalworkshop/geomatrix.tif\n",
      "gdalworkshop/m2frac10bit.l1b\n",
      "gdalworkshop/ne_10m_admin_0_countries.README.html\n",
      "gdalworkshop/ne_10m_admin_0_countries.VERSION.txt\n",
      "gdalworkshop/ne_10m_admin_0_countries.dbf\n",
      "gdalworkshop/ne_10m_admin_0_countries.prj\n",
      "gdalworkshop/ne_10m_admin_0_countries.qix\n",
      "gdalworkshop/ne_10m_admin_0_countries.shp\n",
      "gdalworkshop/ne_10m_admin_0_countries.shx\n",
      "gdalworkshop/ne_10m_admin_1_states_provinces_shp.README.html\n",
      "gdalworkshop/ne_10m_admin_1_states_provinces_shp.VERSION.txt\n",
      "gdalworkshop/ne_10m_admin_1_states_provinces_shp.dbf\n",
      "gdalworkshop/ne_10m_admin_1_states_provinces_shp.prj\n",
      "gdalworkshop/ne_10m_admin_1_states_provinces_shp.qix\n",
      "gdalworkshop/ne_10m_admin_1_states_provinces_shp.shp\n",
      "gdalworkshop/ne_10m_admin_1_states_provinces_shp.shx\n",
      "gdalworkshop/paris.tif\n",
      "gdalworkshop/wellington_east.png\n",
      "gdalworkshop/wellington_west.png\n",
      "gdalworkshop/wellington_west.wld\n",
      "gdalworkshop/world.map\n",
      "gdalworkshop/world.tif\n"
     ]
    }
   ],
   "source": [
    "; ls gdalworkshop/*"
   ]
  },
  {
   "cell_type": "markdown",
   "metadata": {},
   "source": [
    "# Raster operations\n",
    "\n",
    "## Getting metadata about a raster / gdalinfo\n",
    "\n",
    "### Introduction\n",
    "`gdalinfo` is the utility you will use all the time to discover metadata about a raster. This will also enable us to get a practical knowledge of most of the concepts of the [GDAL data model](http://www.gdal.org/gdal_datamodel.html).\n",
    "\n",
    "Documentation of the gdalinfo utility : http://gdal.org/1.11/gdalinfo.html"
   ]
  },
  {
   "cell_type": "code",
   "execution_count": 2,
   "metadata": {
    "collapsed": false,
    "scrolled": true
   },
   "outputs": [
    {
     "name": "stdout",
     "output_type": "stream",
     "text": [
      "Driver: GTiff/GeoTIFF\n",
      "Files: gdalworkshop/world.tif\n",
      "Size is 2048, 1024\n",
      "Coordinate System is:\n",
      "GEOGCS[\"WGS 84\",\n",
      "    DATUM[\"WGS_1984\",\n",
      "        SPHEROID[\"WGS 84\",6378137,298.257223563,\n",
      "            AUTHORITY[\"EPSG\",\"7030\"]],\n",
      "        AUTHORITY[\"EPSG\",\"6326\"]],\n",
      "    PRIMEM[\"Greenwich\",0],\n",
      "    UNIT[\"degree\",0.0174532925199433],\n",
      "    AUTHORITY[\"EPSG\",\"4326\"]]\n",
      "Origin = (-180.000000000000000,90.000000000000000)\n",
      "Pixel Size = (0.175781250000000,-0.175781250000000)\n",
      "Metadata:\n",
      "  AREA_OR_POINT=Area\n",
      "Image Structure Metadata:\n",
      "  INTERLEAVE=BAND\n",
      "Corner Coordinates:\n",
      "Upper Left  (-180.0000000,  90.0000000) (180d 0' 0.00\"W, 90d 0' 0.00\"N)\n",
      "Lower Left  (-180.0000000, -90.0000000) (180d 0' 0.00\"W, 90d 0' 0.00\"S)\n",
      "Upper Right ( 180.0000000,  90.0000000) (180d 0' 0.00\"E, 90d 0' 0.00\"N)\n",
      "Lower Right ( 180.0000000, -90.0000000) (180d 0' 0.00\"E, 90d 0' 0.00\"S)\n",
      "Center      (   0.0000000,   0.0000000) (  0d 0' 0.01\"E,  0d 0' 0.01\"N)\n",
      "Band 1 Block=256x256 Type=Byte, ColorInterp=Red\n",
      "  Overviews: 1024x512, 512x256, 256x128, 128x64, 64x32, 32x16, 16x8\n",
      "Band 2 Block=256x256 Type=Byte, ColorInterp=Green\n",
      "  Overviews: 1024x512, 512x256, 256x128, 128x64, 64x32, 32x16, 16x8\n",
      "Band 3 Block=256x256 Type=Byte, ColorInterp=Blue\n",
      "  Overviews: 1024x512, 512x256, 256x128, 128x64, 64x32, 32x16, 16x8\n"
     ]
    }
   ],
   "source": [
    "; gdalinfo gdalworkshop/world.tif"
   ]
  },
  {
   "cell_type": "markdown",
   "metadata": {
    "collapsed": true
   },
   "source": [
    "Description of output :\n",
    "- Driver: Formats in GDAL are managed by different «drivers». Basically 1 driver is dedicated to 1 format. Lists of drivers available at http://gdal.org/1.11/formats_list.html\n",
    "- Files: list of files. Main file + potential additional files (world files, etc...)\n",
    "- Size is 2048, 1024. First figure is Width in pixels. Second one is Height in pixels.\n",
    "- Coordinate System: Also called projection, SRS (Spatial Reference System), CRS (Coordinate Refrence System), … The string presented here is in WKT (Well Known Text) format. The one used here is one of the most simple one. Coordinates are expressed in longitude & latitude on the WGS84 (World Geodetic Survey 1984) datum (due to longitude & latitude being directly used, this is called a geographic coordinate system « GEOGCS »)\n",
    "- Origin : This is the projected coordinate of the upper-left corner of the image (the upper-left corner of the upper-left pixel). Here -180 is the longitude and 90 the latitude.\n",
    "- Pixel Size : The dimension of a pixel in the units of the coordinate system. The first value is the width of the pixel, the second one its height. Here 0.17578125 is in degrees (see UNIT[\"degree\"...] in the Coordinate System string). At the equator, this means roughly 0.17578125 * 40000 / 360 = 19.5 km (the circonference of the Earth is rougly 40 000 km, and covers 360 degrees). You can notice the negative value for the pixel height. This is to indicate that the geospatial coordinates are decreasing when you go from the top of the image to the bottom of the image. This is the case for most geospatial rasters, so they appear correctly in all viewers.\n",
    "- Metadata : a list of KEY=VALUE pairs, depending on the format and data. Here AREA_OR_POINT=AREA is a GDAL specific metadata to indicate that the on-file convention for the geo-registration is to take the upper-left corner of pixels (to be opposed to AREA_OR_POINT=POINT where the center of pixel is considered). You generally don't have to care about this one. This is mostly informational. For more details (rather involved), see https://trac.osgeo.org/gdal/wiki/rfc33_gtiff_pixelispoint\n",
    "- Image structure metadata : gives details about :\n",
    "     - the arrangement of pixels. INTERLEAVE=BAND here means that in the file you have first all the pixels for the Red band, then for the Green band and finally for the Blue band. The other formulation is INTERLEAVE=PIXEL which means that for each pixel you have the red value followed by the green and blue values, and then for the next pixel another R,G,B tuple, etc... This can be interesting to know for the efficiency of algorithms when processing big images. You might want to proceed closely with the natural organization of the data for best performance.\n",
    "     - Potentially, compression used (JPEG, LZW, DEFLATE, etc...). Here's none.\n",
    "     - Potentially, number of bits used when the data width is smaller than the data type holding it. For example 12-bit wide data (values between 0 and 4095) will be stored in a unsigned 16-bit integer, and NBITS=12 will be advertized\n",
    "- Corner coordinates: the geospatial coordinates of the 4 corner of the images (including any\n",
    "padding), as well as the center pixel, expressed in the coordinate system for the first tuple.\n",
    "The second tuple gives their equivalents as longitude, latitude. Here since it is a geographic\n",
    "coordinate system, both values are identical\n",
    "- Band description :\n",
    "     - Block=256x256 : A block corresponds to a rectangular subpart of the raster. The first\n",
    "value is the width of the block and the second value its height. Typical block shapes are lines or group of lines (in which case the block width is the raster width) or tiles (typically squares), such as here. Knowing the block size is important when efficient reading of a raster is needed. In case of tiles, this means reading rasters from the leftmost tile of the raster to the right-most of the upper lines and progressing that way downward to the bottom of the image.\n",
    "     - Type=Byte : This is the data type of a pixel. Byte (unsigned byte) can store integer\n",
    "values between 0 and 255 and is the most common one. Other data types are possibles\n",
    "such as Int16 ([-32768,32767], UInt16([0,65535],Int32,UInt32,Float32 (single-precision\n",
    "floating point),Float64 (double-precision floating point). Int16 or Float32/Float64 can be\n",
    "encountered for digital elevation models (DEMs). UInt16 for raw satellite imagery.\n",
    "There are also data types that store complex numbers (with real and imaginary part), but\n",
    "this is rather esoteric and only used in a few drivers, mainly in the field of SAR\n",
    "(Synthetic Aperture Radar).\n",
    "     - ColorInterp=Red : The color interpretation of the band. Common values are Red, Green,\n",
    "Blue, Alpha (for opacity channel. 0=fully transparent, 255=fully opaque) or Unknown.\n",
    "Other values are possible for other color spaces such as Cyan, Magenta, Yellow, blacK,\n",
    "but not often encountered. Note that there's no color interpretation fo Near InfraRed for\n",
    "example. This is something that must be deduced from other metada or knowledge of the\n",
    "product characteristics\n",
    "     - Overviews : this gives the list of overviews available for the band (this may be empty).\n",
    "Overviews are also called pyramids in GIS. They are versions of reduced size of the full\n",
    "resolution raster to enable fast zoom-out operations. The first overview level is typically\n",
    "half the size (in both dimensions) as the full resolution one, the second overview level\n",
    "half the size of the first one, and so on... So the extra « cost » in term of storage size to\n",
    "add overviews is : 1 / (2*2) + 1 / (4*4) + 1 / (8*8) + etc.... which equals to 1 / 3. So\n",
    "overviews are generally and worth building, especially for use that involves interactive\n",
    "display of the raster. Here, looking at the file list and seing that only one file is\n",
    "mentionned, you can deduce that the overviews are stored within that file. Only a few\n",
    "formats, like TIFF/GeoTIFF, allow that. Otherwise files may be stored in external .ovr\n",
    "files"
   ]
  },
  {
   "cell_type": "markdown",
   "metadata": {},
   "source": [
    "### Getting those information with RasterIO.jl"
   ]
  },
  {
   "cell_type": "code",
   "execution_count": 3,
   "metadata": {
    "collapsed": false
   },
   "outputs": [
    {
     "data": {
      "text/plain": [
       "\"GDAL 2.1.0dev, released 2015/99/99\""
      ]
     },
     "execution_count": 3,
     "metadata": {},
     "output_type": "execute_result"
    }
   ],
   "source": [
    "using RasterIO\n",
    "\n",
    "RasterIO.versioninfo(\"--version\")"
   ]
  },
  {
   "cell_type": "code",
   "execution_count": 4,
   "metadata": {
    "collapsed": false
   },
   "outputs": [
    {
     "data": {
      "text/plain": [
       "RasterIO.Raster(Ptr{Void} @0x00007f8325dca4c0,2048,1024,3)"
      ]
     },
     "execution_count": 4,
     "metadata": {},
     "output_type": "execute_result"
    }
   ],
   "source": [
    "raster = RasterIO.openraster(\"gdalworkshop/world.tif\")"
   ]
  },
  {
   "cell_type": "code",
   "execution_count": 5,
   "metadata": {
    "collapsed": false
   },
   "outputs": [
    {
     "data": {
      "text/plain": [
       "1-element Array{ASCIIString,1}:\n",
       " \"gdalworkshop/world.tif\""
      ]
     },
     "execution_count": 5,
     "metadata": {},
     "output_type": "execute_result"
    }
   ],
   "source": [
    "filelist = RasterIO.getfilelist(raster.dataset)"
   ]
  },
  {
   "cell_type": "code",
   "execution_count": 6,
   "metadata": {
    "collapsed": false
   },
   "outputs": [
    {
     "data": {
      "text/plain": [
       "(2048,1024,3)"
      ]
     },
     "execution_count": 6,
     "metadata": {},
     "output_type": "execute_result"
    }
   ],
   "source": [
    "raster.width, raster.height, raster.nband"
   ]
  },
  {
   "cell_type": "code",
   "execution_count": 7,
   "metadata": {
    "collapsed": false
   },
   "outputs": [
    {
     "data": {
      "text/plain": [
       "\"GEOGCS[\\\"WGS 84\\\",DATUM[\\\"WGS_1984\\\",SPHEROID[\\\"WGS 84\\\",6378137,298.257223563,AUTHORITY[\\\"EPSG\\\",\\\"7030\\\"]],AUTHORITY[\\\"EPSG\\\",\\\"6326\\\"]],PRIMEM[\\\"Greenwich\\\",0],UNIT[\\\"degree\\\",0.0174532925199433],AUTHORITY[\\\"EPSG\\\",\\\"4326\\\"]]\""
      ]
     },
     "execution_count": 7,
     "metadata": {},
     "output_type": "execute_result"
    }
   ],
   "source": [
    "RasterIO.wktprojection(raster)"
   ]
  },
  {
   "cell_type": "code",
   "execution_count": 8,
   "metadata": {
    "collapsed": false
   },
   "outputs": [
    {
     "data": {
      "text/plain": [
       "6-element Array{Float64,1}:\n",
       " -180.0     \n",
       "    0.175781\n",
       "    0.0     \n",
       "   90.0     \n",
       "    0.0     \n",
       "   -0.175781"
      ]
     },
     "execution_count": 8,
     "metadata": {},
     "output_type": "execute_result"
    }
   ],
   "source": [
    "gt = RasterIO.geotransform(raster)"
   ]
  },
  {
   "cell_type": "code",
   "execution_count": 9,
   "metadata": {
    "collapsed": false
   },
   "outputs": [
    {
     "name": "stdout",
     "output_type": "stream",
     "text": [
      "origin: (-180.0,90.0)"
     ]
    }
   ],
   "source": [
    "print(\"origin: $((gt[1], gt[4]))\")"
   ]
  },
  {
   "cell_type": "code",
   "execution_count": 10,
   "metadata": {
    "collapsed": false
   },
   "outputs": [
    {
     "name": "stdout",
     "output_type": "stream",
     "text": [
      "pixel size: (0.17578125,-0.17578125)"
     ]
    }
   ],
   "source": [
    "print(\"pixel size: $((gt[2], gt[6]))\")"
   ]
  },
  {
   "cell_type": "code",
   "execution_count": 11,
   "metadata": {
    "collapsed": false
   },
   "outputs": [
    {
     "name": "stdout",
     "output_type": "stream",
     "text": [
      "upper left: [-180.0,90.0]"
     ]
    }
   ],
   "source": [
    "print(\"upper left: $(RasterIO.applygeotransform(gt, 0.0, 0.0))\")"
   ]
  },
  {
   "cell_type": "code",
   "execution_count": 12,
   "metadata": {
    "collapsed": false
   },
   "outputs": [
    {
     "name": "stdout",
     "output_type": "stream",
     "text": [
      "upper right: [180.0,90.0]"
     ]
    }
   ],
   "source": [
    "print(\"upper right: $(RasterIO.applygeotransform(gt, Float64(raster.width), 0.0))\")"
   ]
  },
  {
   "cell_type": "code",
   "execution_count": 13,
   "metadata": {
    "collapsed": false
   },
   "outputs": [
    {
     "name": "stdout",
     "output_type": "stream",
     "text": [
      "lower left: [-180.0,-90.0]"
     ]
    }
   ],
   "source": [
    "print(\"lower left: $(RasterIO.applygeotransform(gt, 0.0, Float64(raster.height)))\")"
   ]
  },
  {
   "cell_type": "code",
   "execution_count": 14,
   "metadata": {
    "collapsed": false
   },
   "outputs": [
    {
     "name": "stdout",
     "output_type": "stream",
     "text": [
      "lower right: [180.0,-90.0]"
     ]
    }
   ],
   "source": [
    "print(\"lower right: $(RasterIO.applygeotransform(gt, Float64(raster.width), Float64(raster.height)))\")"
   ]
  },
  {
   "cell_type": "code",
   "execution_count": 15,
   "metadata": {
    "collapsed": false
   },
   "outputs": [
    {
     "name": "stdout",
     "output_type": "stream",
     "text": [
      "center: [0.0,0.0]"
     ]
    }
   ],
   "source": [
    "print(\"center: $(RasterIO.applygeotransform(gt, raster.width/2, raster.height/2))\")"
   ]
  },
  {
   "cell_type": "code",
   "execution_count": 16,
   "metadata": {
    "collapsed": false
   },
   "outputs": [
    {
     "data": {
      "text/plain": [
       "1-element Array{ASCIIString,1}:\n",
       " \"AREA_OR_POINT=Area\""
      ]
     },
     "execution_count": 16,
     "metadata": {},
     "output_type": "execute_result"
    }
   ],
   "source": [
    "RasterIO.getmetadata(raster.dataset)"
   ]
  },
  {
   "cell_type": "code",
   "execution_count": 17,
   "metadata": {
    "collapsed": false
   },
   "outputs": [
    {
     "data": {
      "text/plain": [
       "1-element Array{ASCIIString,1}:\n",
       " \"INTERLEAVE=BAND\""
      ]
     },
     "execution_count": 17,
     "metadata": {},
     "output_type": "execute_result"
    }
   ],
   "source": [
    "RasterIO.getmetadata(raster.dataset, \"IMAGE_STRUCTURE\")"
   ]
  },
  {
   "cell_type": "code",
   "execution_count": 18,
   "metadata": {
    "collapsed": false
   },
   "outputs": [
    {
     "name": "stdout",
     "output_type": "stream",
     "text": [
      "Band 1, block size (256,256), color interp Red\n",
      "Overview 1: 1024 x 512\n",
      "Overview 2: 512 x 256\n",
      "Overview 3: 256 x 128\n",
      "Overview 4: 128 x 64\n",
      "Overview 5: 64 x 32\n",
      "Overview 6: 32 x 16\n",
      "Overview 7: 16 x 8\n",
      "Band 2, block size (256,256), color interp Green\n",
      "Overview 1: 1024 x 512\n",
      "Overview 2: 512 x 256\n",
      "Overview 3: 256 x 128\n",
      "Overview 4: 128 x 64\n",
      "Overview 5: 64 x 32\n",
      "Overview 6: 32 x 16\n",
      "Overview 7: 16 x 8\n",
      "Band 3, block size (256,256), color interp Blue\n",
      "Overview 1: 1024 x 512\n",
      "Overview 2: 512 x 256\n",
      "Overview 3: 256 x 128\n",
      "Overview 4: 128 x 64\n",
      "Overview 5: 64 x 32\n",
      "Overview 6: 32 x 16\n",
      "Overview 7: 16 x 8\n"
     ]
    }
   ],
   "source": [
    "for i in 1:raster.nband\n",
    "    band = RasterIO.getrasterband(raster.dataset, i)\n",
    "    interp = RasterIO.getcolorinterp(band)\n",
    "    interp_name = RasterIO.colorinterpname(interp)\n",
    "    (w,h) = RasterIO.getblocksize(band)\n",
    "    println(\"Band $i, block size $((w,h)), color interp $interp_name\")\n",
    "    for j in 1:RasterIO._overviewcount(band)\n",
    "        ovr_band = RasterIO.getoverview(band, j)\n",
    "        xsize = RasterIO._getrasterbandxsize(ovr_band)\n",
    "        ysize = RasterIO._getrasterbandysize(ovr_band)\n",
    "        println(\"Overview $j: $xsize x $ysize\")\n",
    "    end\n",
    "end"
   ]
  },
  {
   "cell_type": "markdown",
   "metadata": {},
   "source": [
    "### General form of the geo-transformation matrix"
   ]
  },
  {
   "cell_type": "code",
   "execution_count": 19,
   "metadata": {
    "collapsed": false
   },
   "outputs": [
    {
     "name": "stdout",
     "output_type": "stream",
     "text": [
      "Driver: GTiff/GeoTIFF\n",
      "Files: gdalworkshop/geomatrix.tif\n",
      "Size is 20, 20\n",
      "Coordinate System is:\n",
      "PROJCS[\"WGS 84 / UTM zone 11N\",\n",
      "    GEOGCS[\"WGS 84\",\n",
      "        DATUM[\"WGS_1984\",\n",
      "            SPHEROID[\"WGS 84\",6378137,298.257223563,\n",
      "                AUTHORITY[\"EPSG\",\"7030\"]],\n",
      "            AUTHORITY[\"EPSG\",\"6326\"]],\n",
      "        PRIMEM[\"Greenwich\",0,\n",
      "            AUTHORITY[\"EPSG\",\"8901\"]],\n",
      "        UNIT[\"degree\",0.0174532925199433,\n",
      "            AUTHORITY[\"EPSG\",\"9122\"]],\n",
      "        AUTHORITY[\"EPSG\",\"4326\"]],\n",
      "    PROJECTION[\"Transverse_Mercator\"],\n",
      "    PARAMETER[\"latitude_of_origin\",0],\n",
      "    PARAMETER[\"central_meridian\",-117],\n",
      "    PARAMETER[\"scale_factor\",0.9996],\n",
      "    PARAMETER[\"false_easting\",500000],\n",
      "    PARAMETER[\"false_northing\",0],\n",
      "    UNIT[\"metre\",1,\n",
      "        AUTHORITY[\"EPSG\",\"9001\"]],\n",
      "    AXIS[\"Easting\",EAST],\n",
      "    AXIS[\"Northing\",NORTH],\n",
      "    AUTHORITY[\"EPSG\",\"32611\"]]\n",
      "GeoTransform =\n",
      "  1841001.75, 1.5, -5\n",
      "  1144003.25, -5, -1.5\n",
      "Metadata:\n",
      "  AREA_OR_POINT=Point\n",
      "Image Structure Metadata:\n",
      "  INTERLEAVE=BAND\n",
      "Corner Coordinates:\n",
      "Upper Left  ( 1841001.750, 1144003.250) (104d50'47.45\"W, 10d 7'13.55\"N)\n",
      "Lower Left  ( 1840901.750, 1143973.250) (104d50'50.69\"W, 10d 7'12.72\"N)\n",
      "Upper Right ( 1841031.750, 1143903.250) (104d50'46.60\"W, 10d 7'10.33\"N)\n",
      "Lower Right ( 1840931.750, 1143873.250) (104d50'49.85\"W, 10d 7' 9.50\"N)\n",
      "Center      ( 1840966.750, 1143938.250) (104d50'48.65\"W, 10d 7'11.53\"N)\n",
      "Band 1 Block=20x20 Type=Byte, ColorInterp=Gray\n"
     ]
    }
   ],
   "source": [
    "; gdalinfo gdalworkshop/geomatrix.tif "
   ]
  },
  {
   "cell_type": "markdown",
   "metadata": {},
   "source": [
    "You can notice that contrary to the first example we no longer have a Origin and Pixel Size reported, but instead a GeoTransform.\n",
    "\n",
    "The GeoTransform is the geo-transformation matrix, which is in mathematics described as an affine transformation from the coordinates in the pixel space (col,row) to the coordinates of the projected space (X,Y), with col and row starting from 0 for the upper-left pixel (in pixel space, not necessarily in projected space!). This is a series of 6 values gt[0], gt[1], … gt[5] such as :\n",
    "\n",
    "    X = gt[0] + col * gt[1] + row * gt[2]\n",
    "    Y = gt[3] + col * gt[4] + row * gt[5]\n",
    "    \n",
    "This is exactly the computation done by gdal.ApplyGeoTransform:\n",
    "\n",
    "    [X,Y]=gdal.ApplyGeoTransform(gt,row,col)\n",
    "    \n",
    "When the gt[2] and gt[4] terms are non zero, the image is no longer « north-up » with respect to the\n",
    "projected space, and you may have rotation and/or shearing.\n",
    "\n",
    "To generate a more familiar image with those rotation/shearing being applied, you can use\n",
    "`gdalwarp`.\n",
    "\n",
    "The related mathematics are detailed at http://en.wikipedia.org/wiki/Transformation_matrix"
   ]
  },
  {
   "cell_type": "markdown",
   "metadata": {},
   "source": [
    "### Ground Control Points (GCPs)"
   ]
  },
  {
   "cell_type": "code",
   "execution_count": 20,
   "metadata": {
    "collapsed": false
   },
   "outputs": [
    {
     "name": "stdout",
     "output_type": "stream",
     "text": [
      "Driver: L1B/NOAA Polar Orbiter Level 1b Data Set\n",
      "Files: gdalworkshop/m2frac10bit.l1b\n",
      "Size is 2048, 222\n",
      "Coordinate System is `'\n",
      "GCP Projection = \n",
      "GEOGCS[\"WGS 72\",\n",
      "    DATUM[\"WGS_1972\",\n",
      "        SPHEROID[\"WGS 72\",6378135,298.26,\n",
      "            AUTHORITY[\"EPSG\",\"7043\"]],\n",
      "        TOWGS84[0,0,4.5,0,0,0.554,0.2263],\n",
      "        AUTHORITY[\"EPSG\",\"6322\"]],\n",
      "    PRIMEM[\"Greenwich\",0,\n",
      "        AUTHORITY[\"EPSG\",\"8901\"]],\n",
      "    UNIT[\"degree\",0.0174532925199433,\n",
      "        AUTHORITY[\"EPSG\",\"9108\"]],\n",
      "    AUTHORITY[\"EPSG\",\"4322\"]]\n",
      "GCP[  0]: Id=, Info=\n",
      "          (2023.5,221.5) -> (34.5374,59.0067,0)\n",
      "GCP[  1]: Id=, Info=\n",
      "          (1983.5,221.5) -> (32.1151,59.0086,0)\n",
      "GCP[  2]: Id=, Info=\n",
      "          (1943.5,221.5) -> (30.1062,58.9758,0)\n",
      "GCP[  3]: Id=, Info=\n",
      "          (1903.5,221.5) -> (28.3943,58.9232,0)\n",
      "GCP[  4]: Id=, Info=\n",
      "          (1863.5,221.5) -> (26.9056,58.8588,0)\n",
      "GCP[  5]: Id=, Info=\n",
      "          (1823.5,221.5) -> (25.59,58.7875,0)\n",
      "GCP[  6]: Id=, Info=\n",
      "          (1783.5,221.5) -> (24.4121,58.712,0)\n",
      "GCP[  7]: Id=, Info=\n",
      "          (1743.5,221.5) -> (23.3459,58.634,0)\n",
      "GCP[  8]: Id=, Info=\n",
      "          (1703.5,221.5) -> (22.3716,58.5547,0)\n",
      "GCP[  9]: Id=, Info=\n",
      "          (1663.5,221.5) -> (21.4738,58.4748,0)\n",
      "GCP[ 10]: Id=, Info=\n",
      "          (1623.5,221.5) -> (20.6405,58.3947,0)\n",
      "GCP[ 11]: Id=, Info=\n",
      "          (1583.5,221.5) -> (19.8619,58.3145,0)\n",
      "GCP[ 12]: Id=, Info=\n",
      "          (1543.5,221.5) -> (19.1299,58.2345,0)\n",
      "GCP[ 13]: Id=, Info=\n",
      "          (1503.5,221.5) -> (18.4379,58.1547,0)\n",
      "GCP[ 14]: Id=, Info=\n",
      "          (1463.5,221.5) -> (17.7805,58.0751,0)\n",
      "GCP[ 15]: Id=, Info=\n",
      "          (1423.5,221.5) -> (17.1528,57.9955,0)\n",
      "GCP[ 16]: Id=, Info=\n",
      "          (1383.5,221.5) -> (16.5508,57.916,0)\n"
     ]
    }
   ],
   "source": [
    "; gdalinfo gdalworkshop/m2frac10bit.l1b | head -n 50"
   ]
  },
  {
   "cell_type": "markdown",
   "metadata": {},
   "source": [
    "Lots of information here! The main novelty is the report of GCPs, which stand for Ground Control Points, also called Tiepoints or Control Points. Those are points of the raster for which the geolocation is known.\n",
    "\n",
    "Let's look at the first one :\n",
    "\n",
    "    GCP[ 0]: Id=, Info=\n",
    "     (2023.5,221.5) -> (34.5374,59.0067,0)\n",
    "\n",
    "Id, Info are text fields identifying the ground control points. They are rarely used in practice and often let to empty.\n",
    "\n",
    "2023.5 and 221.5 are respectively the column and row in the raster for this GCP. As you can see, decimal values can be used. Here it means that the GCP is located at the center of the pixel (2023,221).\n",
    "\n",
    "34.5374, 59.0067 and 0 are respectively the longitude/easting, latitude/northing and altitude of the GCP in the coordinate space. Here the reported GCP coordinate system is a geographic coordinate system, so they are longitude and latitude. The altitude is in most of the case 0.\n",
    "\n",
    "You can also notice the lack of a geo-transform : the raster isn't projected yet. This can be done with gdalwarp\n",
    "\n",
    "If the GCPs annoy you in the gdalinfo output, you can suppress them with the -nogcp option:"
   ]
  },
  {
   "cell_type": "code",
   "execution_count": 21,
   "metadata": {
    "collapsed": false
   },
   "outputs": [
    {
     "name": "stdout",
     "output_type": "stream",
     "text": [
      "Driver: L1B/NOAA Polar Orbiter Level 1b Data Set\n",
      "Files: gdalworkshop/m2frac10bit.l1b\n",
      "Size is 2048, 222\n",
      "Coordinate System is `'\n",
      "Metadata:\n",
      "  DATASET_NAME=NSS.FRAC.M2.D08128.S1813.E1953.B0804243.SV\n",
      "  DATA_TYPE=AVHRR FRAC\n",
      "  LOCATION=Ascending\n",
      "  PROCESSING_CENTER=NOAA/NESDIS - Suitland, Maryland, USA\n",
      "  REVOLUTION=08042\n",
      "  SATELLITE=METOP-A(2)\n",
      "  SOURCE=Unknown receiving station\n",
      "  START=year: 2008, day: 128, millisecond: 71248670\n",
      "  STOP=year: 2008, day: 128, millisecond: 71285504\n",
      "Subdatasets:\n",
      "  SUBDATASET_1_NAME=L1B_ANGLES:\"gdalworkshop/m2frac10bit.l1b\"\n",
      "  SUBDATASET_1_DESC=Solar zenith angles, satellite zenith angles and relative azimuth angles\n",
      "  SUBDATASET_2_NAME=L1B_CLOUDS:\"gdalworkshop/m2frac10bit.l1b\"\n",
      "  SUBDATASET_2_DESC=Clouds from AVHRR (CLAVR)\n",
      "Geolocation:\n",
      "  LINE_OFFSET=0\n",
      "  LINE_STEP=1\n",
      "  PIXEL_OFFSET=0\n",
      "  PIXEL_STEP=1\n",
      "  SRS=GEOGCS[\"WGS 72\",DATUM[\"WGS_1972\",SPHEROID[\"WGS 72\",6378135,298.26,AUTHORITY[\"EPSG\",7043]],TOWGS84[0,0,4.5,0,0,0.554,0.2263],AUTHORITY[\"EPSG\",6322]],PRIMEM[\"Greenwich\",0,AUTHORITY[\"EPSG\",8901]],UNIT[\"degree\",0.0174532925199433,AUTHORITY[\"EPSG\",9108]],AUTHORITY[\"EPSG\",4322]]\n",
      "  X_BAND=1\n",
      "  X_DATASET=L1BGCPS_INTERPOL:\"gdalworkshop/m2frac10bit.l1b\"\n",
      "  Y_BAND=2\n",
      "  Y_DATASET=L1BGCPS_INTERPOL:\"gdalworkshop/m2frac10bit.l1b\"\n",
      "Corner Coordinates:\n",
      "Upper Left  (    0.0,    0.0)\n",
      "Lower Left  (    0.0,  222.0)\n",
      "Upper Right ( 2048.0,    0.0)\n",
      "Lower Right ( 2048.0,  222.0)\n",
      "Center      ( 1024.0,  111.0)\n",
      "Band 1 Block=2048x1 Type=UInt16, ColorInterp=Undefined\n",
      "  Description = AVHRR Channel 1:  0.58  micrometers -- 0.68 micrometers\n",
      "Band 2 Block=2048x1 Type=UInt16, ColorInterp=Undefined\n",
      "  Description = AVHRR Channel 2:  0.725 micrometers -- 1.10 micrometers\n",
      "Band 3 Block=2048x1 Type=UInt16, ColorInterp=Undefined\n",
      "  Description = AVHRR Channel 3A: 1.58  micrometers -- 1.64 micrometers\n",
      "Band 4 Block=2048x1 Type=UInt16, ColorInterp=Undefined\n",
      "  Description = AVHRR Channel 4:  10.3  micrometers -- 11.3 micrometers\n",
      "Band 5 Block=2048x1 Type=UInt16, ColorInterp=Undefined\n",
      "  Description = AVHRR Channel 5:  11.5  micrometers -- 12.5 micrometers\n"
     ]
    }
   ],
   "source": [
    "; gdalinfo -nogcp gdalworkshop/m2frac10bit.l1b"
   ]
  },
  {
   "cell_type": "markdown",
   "metadata": {
    "collapsed": true
   },
   "source": [
    "### Statistics, histogram, checksum"
   ]
  },
  {
   "cell_type": "code",
   "execution_count": 22,
   "metadata": {
    "collapsed": false
   },
   "outputs": [
    {
     "name": "stdout",
     "output_type": "stream",
     "text": [
      "Driver: L1B/NOAA Polar Orbiter Level 1b Data Set\n",
      "Files: gdalworkshop/m2frac10bit.l1b\n",
      "Size is 2048, 222\n",
      "Coordinate System is `'\n",
      "Corner Coordinates:\n",
      "Upper Left  (    0.0,    0.0)\n",
      "Lower Left  (    0.0,  222.0)\n",
      "Upper Right ( 2048.0,    0.0)\n",
      "Lower Right ( 2048.0,  222.0)\n",
      "Center      ( 1024.0,  111.0)\n",
      "Band 1 Block=2048x1 Type=UInt16, ColorInterp=Undefined\n",
      "  Description = AVHRR Channel 1:  0.58  micrometers -- 0.68 micrometers\n",
      "  Minimum=39.000, Maximum=165.000, Mean=43.898, StdDev=7.642\n",
      "Band 2 Block=2048x1 Type=UInt16, ColorInterp=Undefined\n",
      "  Description = AVHRR Channel 2:  0.725 micrometers -- 1.10 micrometers\n",
      "  Minimum=39.000, Maximum=226.000, Mean=43.882, StdDev=8.992\n",
      "Band 3 Block=2048x1 Type=UInt16, ColorInterp=Undefined\n",
      "  Description = AVHRR Channel 3A: 1.58  micrometers -- 1.64 micrometers\n",
      "  Minimum=533.000, Maximum=983.000, Mean=906.890, StdDev=27.716\n",
      "Band 4 Block=2048x1 Type=UInt16, ColorInterp=Undefined\n",
      "  Description = AVHRR Channel 4:  10.3  micrometers -- 11.3 micrometers\n",
      "  Minimum=454.000, Maximum=821.000, Mean=563.780, StdDev=61.628\n",
      "Band 5 Block=2048x1 Type=UInt16, ColorInterp=Undefined\n",
      "  Description = AVHRR Channel 5:  11.5  micrometers -- 12.5 micrometers\n",
      "  Minimum=446.000, Maximum=803.000, Mean=550.119, StdDev=61.217\n"
     ]
    }
   ],
   "source": [
    ";  gdalinfo -stats -nogcp -nomd gdalworkshop/m2frac10bit.l1b"
   ]
  },
  {
   "cell_type": "markdown",
   "metadata": {},
   "source": [
    "The -stats option asks gdalinfo to compute the minimum, maximum, mean and standard deviation for each band. The -nogcp and -nomd options are just to suppress GCP and metadata from the output.\n",
    "\n",
    "Now run"
   ]
  },
  {
   "cell_type": "code",
   "execution_count": 23,
   "metadata": {
    "collapsed": false
   },
   "outputs": [
    {
     "name": "stdout",
     "output_type": "stream",
     "text": [
      "Driver: L1B/NOAA Polar Orbiter Level 1b Data Set\n",
      "Files: gdalworkshop/m2frac10bit.l1b\n",
      "       gdalworkshop/m2frac10bit.l1b.aux.xml\n",
      "Size is 2048, 222\n",
      "Coordinate System is `'\n",
      "Corner Coordinates:\n",
      "Upper Left  (    0.0,    0.0)\n",
      "Lower Left  (    0.0,  222.0)\n",
      "Upper Right ( 2048.0,    0.0)\n",
      "Lower Right ( 2048.0,  222.0)\n",
      "Center      ( 1024.0,  111.0)\n",
      "Band 1 Block=2048x1 Type=UInt16, ColorInterp=Undefined\n",
      "  Description = AVHRR Channel 1:  0.58  micrometers -- 0.68 micrometers\n",
      "  Min=39.000 Max=165.000 \n",
      "  Minimum=39.000, Maximum=165.000, Mean=43.898, StdDev=7.642\n",
      "Band 2 Block=2048x1 Type=UInt16, ColorInterp=Undefined\n",
      "  Description = AVHRR Channel 2:  0.725 micrometers -- 1.10 micrometers\n",
      "  Min=39.000 Max=226.000 \n",
      "  Minimum=39.000, Maximum=226.000, Mean=43.882, StdDev=8.992\n",
      "Band 3 Block=2048x1 Type=UInt16, ColorInterp=Undefined\n",
      "  Description = AVHRR Channel 3A: 1.58  micrometers -- 1.64 micrometers\n",
      "  Min=533.000 Max=983.000 \n",
      "  Minimum=533.000, Maximum=983.000, Mean=906.890, StdDev=27.716\n",
      "Band 4 Block=2048x1 Type=UInt16, ColorInterp=Undefined\n",
      "  Description = AVHRR Channel 4:  10.3  micrometers -- 11.3 micrometers\n",
      "  Min=454.000 Max=821.000 \n",
      "  Minimum=454.000, Maximum=821.000, Mean=563.780, StdDev=61.628\n",
      "Band 5 Block=2048x1 Type=UInt16, ColorInterp=Undefined\n",
      "  Description = AVHRR Channel 5:  11.5  micrometers -- 12.5 micrometers\n",
      "  Min=446.000 Max=803.000 \n",
      "  Minimum=446.000, Maximum=803.000, Mean=550.119, StdDev=61.217\n"
     ]
    }
   ],
   "source": [
    "; gdalinfo -nogcp -nomd gdalworkshop/m2frac10bit.l1b"
   ]
  },
  {
   "cell_type": "markdown",
   "metadata": {},
   "source": [
    "compare the output. You may notice that a m2frac10bit.l1b.aux.xml file is now mentioned, but the statistics are still reported. This file has been generated when computing the statistics. Let's display it"
   ]
  },
  {
   "cell_type": "code",
   "execution_count": 24,
   "metadata": {
    "collapsed": false
   },
   "outputs": [
    {
     "name": "stdout",
     "output_type": "stream",
     "text": [
      "<PAMDataset>\n",
      "  <Metadata>\n",
      "    <MDI key=\"DATASET_NAME\">NSS.FRAC.M2.D08128.S1813.E1953.B0804243.SV</MDI>\n",
      "    <MDI key=\"DATA_TYPE\">AVHRR FRAC</MDI>\n",
      "    <MDI key=\"LOCATION\">Ascending</MDI>\n",
      "    <MDI key=\"PROCESSING_CENTER\">NOAA/NESDIS - Suitland, Maryland, USA</MDI>\n",
      "    <MDI key=\"REVOLUTION\">08042</MDI>\n",
      "    <MDI key=\"SATELLITE\">METOP-A(2)</MDI>\n",
      "    <MDI key=\"SOURCE\">Unknown receiving station</MDI>\n",
      "    <MDI key=\"START\">year: 2008, day: 128, millisecond: 71248670</MDI>\n",
      "    <MDI key=\"STOP\">year: 2008, day: 128, millisecond: 71285504</MDI>\n",
      "  </Metadata>\n",
      "  <Metadata domain=\"GEOLOCATION\">\n",
      "    <MDI key=\"LINE_OFFSET\">0</MDI>\n",
      "    <MDI key=\"LINE_STEP\">1</MDI>\n",
      "    <MDI key=\"PIXEL_OFFSET\">0</MDI>\n",
      "    <MDI key=\"PIXEL_STEP\">1</MDI>\n",
      "    <MDI key=\"SRS\">GEOGCS[\"WGS 72\",DATUM[\"WGS_1972\",SPHEROID[\"WGS 72\",6378135,298.26,AUTHORITY[\"EPSG\",7043]],TOWGS84[0,0,4.5,0,0,0.554,0.2263],AUTHORITY[\"EPSG\",6322]],PRIMEM[\"Greenwich\",0,AUTHORITY[\"EPSG\",8901]],UNIT[\"degree\",0.0174532925199433,AUTHORITY[\"EPSG\",9108]],AUTHORITY[\"EPSG\",4322]]</MDI>\n",
      "    <MDI key=\"X_BAND\">1</MDI>\n",
      "    <MDI key=\"X_DATASET\">L1BGCPS_INTERPOL:\"gdalworkshop/m2frac10bit.l1b\"</MDI>\n",
      "    <MDI key=\"Y_BAND\">2</MDI>\n",
      "    <MDI key=\"Y_DATASET\">L1BGCPS_INTERPOL:\"gdalworkshop/m2frac10bit.l1b\"</MDI>\n",
      "  </Metadata>\n",
      "  <Metadata domain=\"SUBDATASETS\">\n",
      "    <MDI key=\"SUBDATASET_1_NAME\">L1B_ANGLES:\"gdalworkshop/m2frac10bit.l1b\"</MDI>\n",
      "    <MDI key=\"SUBDATASET_1_DESC\">Solar zenith angles, satellite zenith angles and relative azimuth angles</MDI>\n",
      "    <MDI key=\"SUBDATASET_2_NAME\">L1B_CLOUDS:\"gdalworkshop/m2frac10bit.l1b\"</MDI>\n",
      "    <MDI key=\"SUBDATASET_2_DESC\">Clouds from AVHRR (CLAVR)</MDI>\n",
      "  </Metadata>\n",
      "  <PAMRasterBand band=\"1\">\n",
      "    <Description>AVHRR Channel 1:  0.58  micrometers -- 0.68 micrometers</Description>\n",
      "    <Metadata>\n",
      "      <MDI key=\"STATISTICS_MAXIMUM\">165</MDI>\n",
      "      <MDI key=\"STATISTICS_MEAN\">43.898287936374</MDI>\n",
      "      <MDI key=\"STATISTICS_MINIMUM\">39</MDI>\n",
      "      <MDI key=\"STATISTICS_STDDEV\">7.6418424876281</MDI>\n",
      "    </Metadata>\n",
      "  </PAMRasterBand>\n",
      "  <PAMRasterBand band=\"2\">\n",
      "    <Description>AVHRR Channel 2:  0.725 micrometers -- 1.10 micrometers</Description>\n",
      "    <Metadata>\n",
      "      <MDI key=\"STATISTICS_MAXIMUM\">226</MDI>\n",
      "      <MDI key=\"STATISTICS_MEAN\">43.882075679195</MDI>\n",
      "      <MDI key=\"STATISTICS_MINIMUM\">39</MDI>\n",
      "      <MDI key=\"STATISTICS_STDDEV\">8.9918754785884</MDI>\n",
      "    </Metadata>\n",
      "  </PAMRasterBand>\n",
      "  <PAMRasterBand band=\"3\">\n",
      "    <Description>AVHRR Channel 3A: 1.58  micrometers -- 1.64 micrometers</Description>\n",
      "    <Metadata>\n",
      "      <MDI key=\"STATISTICS_MAXIMUM\">983</MDI>\n",
      "      <MDI key=\"STATISTICS_MEAN\">906.89034126901</MDI>\n",
      "      <MDI key=\"STATISTICS_MINIMUM\">533</MDI>\n",
      "      <MDI key=\"STATISTICS_STDDEV\">27.715692093585</MDI>\n",
      "    </Metadata>\n",
      "  </PAMRasterBand>\n",
      "  <PAMRasterBand band=\"4\">\n",
      "    <Description>AVHRR Channel 4:  10.3  micrometers -- 11.3 micrometers</Description>\n",
      "    <Metadata>\n",
      "      <MDI key=\"STATISTICS_MAXIMUM\">821</MDI>\n",
      "      <MDI key=\"STATISTICS_MEAN\">563.78016566372</MDI>\n",
      "      <MDI key=\"STATISTICS_MINIMUM\">454</MDI>\n",
      "      <MDI key=\"STATISTICS_STDDEV\">61.627940356415</MDI>\n",
      "    </Metadata>\n",
      "  </PAMRasterBand>\n",
      "  <PAMRasterBand band=\"5\">\n",
      "    <Description>AVHRR Channel 5:  11.5  micrometers -- 12.5 micrometers</Description>\n",
      "    <Metadata>\n",
      "      <MDI key=\"STATISTICS_MAXIMUM\">803</MDI>\n",
      "      <MDI key=\"STATISTICS_MEAN\">550.11860615498</MDI>\n",
      "      <MDI key=\"STATISTICS_MINIMUM\">446</MDI>\n",
      "      <MDI key=\"STATISTICS_STDDEV\">61.216671085772</MDI>\n",
      "    </Metadata>\n",
      "  </PAMRasterBand>\n",
      "</PAMDataset>\n"
     ]
    }
   ],
   "source": [
    "; cat gdalworkshop/m2frac10bit.l1b.aux.xml"
   ]
  },
  {
   "cell_type": "markdown",
   "metadata": {},
   "source": [
    "You can see this file collects the statistics (as well as the other metadata). In case you are wondering what PAM in the above stands for, it is Persistant Auxiliary Metadata. The PAM .aux.xml format is something GDAL specific (and of course indirectly recognized by all software based on GDAL).\n",
    "\n",
    "**Caution**: when a .aux.xml file exists, even if you specify -stats, gdalinfo will not recompute the statistics from the raster file but will use the ones stored in the .aux.xml. So in case the raster file would have been updated with new values, you may need to manually delete the .aux.xml file."
   ]
  },
  {
   "cell_type": "markdown",
   "metadata": {},
   "source": [
    "## Raster conversion / gdal_translate\n",
    "\n",
    "### Introduction\n",
    "This is the utility to use to do format conversions, subsetting, format optimization, adding georeferencing, ...\n",
    "\n",
    "Documentation of the gdal_translate utility: http://gdal.org/1.11/gdal_translate.html\n",
    "\n",
    "### Format conversion\n",
    "Try:"
   ]
  },
  {
   "cell_type": "code",
   "execution_count": 25,
   "metadata": {
    "collapsed": false
   },
   "outputs": [
    {
     "name": "stderr",
     "output_type": "stream",
     "text": [
      "Warning: The target file has a 'gif' extension, which is normally used by the GIF, BIGGIF drivers,\n",
      "but the requested output driver is GTiff. Is it really what you want ?\n"
     ]
    },
    {
     "name": "stdout",
     "output_type": "stream",
     "text": [
      "Input file size is 1831, 1835\n",
      "0...10...20...30...40...50...60...70...80...90...100 - done.\n"
     ]
    }
   ],
   "source": [
    "; gdal_translate gdalworkshop/wellington_west.png gdalworkshop/wellington_west.gif"
   ]
  },
  {
   "cell_type": "markdown",
   "metadata": {},
   "source": [
    "You get a warning here mentionning that the conversion has been done to TIFF and not to GIF as it was perhaps intended. GDAL is generally not sensitive to extensions, so you have to be explicit about the format, otherwise the default output format, which is GeoTiff will be used.\n",
    "\n",
    "To get the list of supported formats, do:"
   ]
  },
  {
   "cell_type": "code",
   "execution_count": 26,
   "metadata": {
    "collapsed": false
   },
   "outputs": [
    {
     "name": "stdout",
     "output_type": "stream",
     "text": [
      "Supported Formats:\n",
      "  VRT -raster- (rw+v): Virtual Raster\n",
      "  GTiff -raster- (rw+vs): GeoTIFF\n",
      "  NITF -raster- (rw+vs): National Imagery Transmission Format\n",
      "  RPFTOC -raster- (rovs): Raster Product Format TOC format\n",
      "  ECRGTOC -raster- (rovs): ECRG TOC format\n",
      "  HFA -raster- (rw+v): Erdas Imagine Images (.img)\n",
      "  SAR_CEOS -raster- (rov): CEOS SAR Image\n",
      "  CEOS -raster- (rov): CEOS Image\n",
      "  JAXAPALSAR -raster- (rov): JAXA PALSAR Product Reader (Level 1.1/1.5)\n",
      "  GFF -raster- (rov): Ground-based SAR Applications Testbed File Format (.gff)\n",
      "  ELAS -raster- (rw+v): ELAS\n",
      "  AIG -raster- (rov): Arc/Info Binary Grid\n",
      "  AAIGrid -raster- (rwv): Arc/Info ASCII Grid\n",
      "  GRASSASCIIGrid -raster- (rov): GRASS ASCII Grid\n",
      "  SDTS -raster- (rov): SDTS Raster\n",
      "  DTED -raster- (rwv): DTED Elevation Raster\n",
      "  PNG -raster- (rwv): Portable Network Graphics\n",
      "  JPEG -raster- (rwv): JPEG JFIF\n",
      "  MEM -raster- (rw+): In Memory Raster\n",
      "  JDEM -raster- (rov): Japanese DEM (.mem)\n",
      "  GIF -raster- (rwv): Graphics Interchange Format (.gif)\n",
      "  BIGGIF -raster- (rov): Graphics Interchange Format (.gif)\n",
      "  ESAT -raster- (rov): Envisat Image Format\n",
      "  BSB -raster- (rov): Maptech BSB Nautical Charts\n",
      "  XPM -raster- (rwv): X11 PixMap Format\n",
      "  BMP -raster- (rw+v): MS Windows Device Independent Bitmap\n",
      "  DIMAP -raster- (rov): SPOT DIMAP\n",
      "  AirSAR -raster- (rov): AirSAR Polarimetric Image\n",
      "  RS2 -raster- (ros): RadarSat 2 XML Product\n",
      "  SAFE -raster- (rov): Sentinel SAFE Product\n",
      "  PCIDSK -raster,vector- (rw+v): PCIDSK Database File\n",
      "  PCRaster -raster- (rw+): PCRaster Raster File\n",
      "  ILWIS -raster- (rw+v): ILWIS Raster Map\n",
      "  SGI -raster- (rw+): SGI Image File Format 1.0\n",
      "  SRTMHGT -raster- (rwv): SRTMHGT File Format\n",
      "  Leveller -raster- (rw+): Leveller heightfield\n",
      "  Terragen -raster- (rw+): Terragen heightfield\n",
      "  ISIS3 -raster- (rov): USGS Astrogeology ISIS cube (Version 3)\n",
      "  ISIS2 -raster- (rw+v): USGS Astrogeology ISIS cube (Version 2)\n",
      "  PDS -raster- (rov): NASA Planetary Data System\n",
      "  VICAR -raster- (rov): MIPL VICAR file\n",
      "  TIL -raster- (rov): EarthWatch .TIL\n",
      "  ERS -raster- (rw+v): ERMapper .ers Labelled\n",
      "  L1B -raster- (rovs): NOAA Polar Orbiter Level 1b Data Set\n",
      "  FIT -raster- (rwv): FIT Image\n",
      "  GRIB -raster- (rov): GRIdded Binary (.grb)\n",
      "  RMF -raster- (rw+v): Raster Matrix Format\n",
      "  WCS -raster- (rovs): OGC Web Coverage Service\n",
      "  WMS -raster- (rwvs): OGC Web Map Service\n",
      "  MSGN -raster- (ro): EUMETSAT Archive native (.nat)\n",
      "  RST -raster- (rw+v): Idrisi Raster A.1\n",
      "  INGR -raster- (rw+v): Intergraph Raster\n",
      "  GSAG -raster- (rwv): Golden Software ASCII Grid (.grd)\n",
      "  GSBG -raster- (rw+v): Golden Software Binary Grid (.grd)\n",
      "  GS7BG -raster- (rw+v): Golden Software 7 Binary Grid (.grd)\n",
      "  COSAR -raster- (rov): COSAR Annotated Binary Matrix (TerraSAR-X)\n",
      "  TSX -raster- (rov): TerraSAR-X Product\n",
      "  COASP -raster- (ro): DRDC COASP SAR Processor Raster\n",
      "  R -raster- (rwv): R Object Data Store\n",
      "  MAP -raster- (rov): OziExplorer .MAP\n",
      "  PNM -raster- (rw+v): Portable Pixmap Format (netpbm)\n",
      "  DOQ1 -raster- (rov): USGS DOQ (Old Style)\n",
      "  DOQ2 -raster- (rov): USGS DOQ (New Style)\n",
      "  ENVI -raster- (rw+v): ENVI .hdr Labelled\n",
      "  EHdr -raster- (rw+v): ESRI .hdr Labelled\n",
      "  GenBin -raster- (rov): Generic Binary (.hdr Labelled)\n",
      "  PAux -raster- (rw+): PCI .aux Labelled\n",
      "  MFF -raster- (rw+v): Vexcel MFF Raster\n",
      "  MFF2 -raster- (rw+): Vexcel MFF2 (HKV) Raster\n",
      "  FujiBAS -raster- (ro): Fuji BAS Scanner Image\n",
      "  GSC -raster- (rov): GSC Geogrid\n",
      "  FAST -raster- (rov): EOSAT FAST Format\n",
      "  BT -raster- (rw+v): VTP .bt (Binary Terrain) 1.3 Format\n",
      "  LAN -raster- (rw+v): Erdas .LAN/.GIS\n",
      "  CPG -raster- (ro): Convair PolGASP\n",
      "  IDA -raster- (rw+v): Image Data and Analysis\n",
      "  NDF -raster- (rov): NLAPS Data Format\n",
      "  EIR -raster- (rov): Erdas Imagine Raw\n",
      "  DIPEx -raster- (rov): DIPEx\n",
      "  LCP -raster- (rwv): FARSITE v.4 Landscape File (.lcp)\n",
      "  GTX -raster- (rw+v): NOAA Vertical Datum .GTX\n",
      "  LOSLAS -raster- (rov): NADCON .los/.las Datum Grid Shift\n",
      "  NTv2 -raster- (rw+vs): NTv2 Datum Grid Shift\n",
      "  CTable2 -raster- (rw+v): CTable2 Datum Grid Shift\n",
      "  ACE2 -raster- (rov): ACE2\n",
      "  SNODAS -raster- (rov): Snow Data Assimilation System\n",
      "  KRO -raster- (rw+v): KOLOR Raw\n",
      "  ROI_PAC -raster- (rw+v): ROI_PAC raster\n",
      "  ISCE -raster- (rw+v): ISCE raster\n",
      "  ARG -raster- (rwv): Azavea Raster Grid format\n",
      "  RIK -raster- (rov): Swedish Grid RIK (.rik)\n",
      "  USGSDEM -raster- (rwv): USGS Optional ASCII DEM (and CDED)\n",
      "  GXF -raster- (ro): GeoSoft Grid Exchange Format\n",
      "  NWT_GRD -raster- (rov): Northwood Numeric Grid Format .grd/.tab\n",
      "  NWT_GRC -raster- (rov): Northwood Classified Grid Format .grc/.tab\n",
      "  ADRG -raster- (rw+vs): ARC Digitized Raster Graphics\n",
      "  SRP -raster- (rovs): Standard Raster Product (ASRP/USRP)\n",
      "  BLX -raster- (rw): Magellan topo (.blx)\n",
      "  Rasterlite -raster- (rws): Rasterlite\n",
      "  SAGA -raster- (rw+v): SAGA GIS Binary Grid (.sdat)\n",
      "  KMLSUPEROVERLAY -raster- (rwv): Kml Super Overlay\n",
      "  XYZ -raster- (rwv): ASCII Gridded XYZ\n",
      "  HF2 -raster- (rwv): HF2/HFZ heightfield raster\n",
      "  PDF -raster,vector- (w+): Geospatial PDF\n",
      "  OZI -raster- (rov): OziExplorer Image File\n",
      "  CTG -raster- (rov): USGS LULC Composite Theme Grid\n",
      "  E00GRID -raster- (rov): Arc/Info Export E00 GRID\n",
      "  ZMap -raster- (rwv): ZMap Plus Grid\n",
      "  NGSGEOID -raster- (rov): NOAA NGS Geoid Height Grids\n",
      "  MBTiles -raster- (rov): MBTiles\n",
      "  IRIS -raster- (rov): IRIS data (.PPI, .CAPPi etc)\n",
      "  PLMOSAIC -raster- (ro): Planet Labs Mosaics API\n",
      "  CALS -raster- (rw): CALS (Type 1)\n",
      "  WMTS -raster- (rwv): OGC Web Mab Tile Service\n",
      "  GPKG -raster,vector- (rw+vs): GeoPackage\n",
      "  PLSCENES -raster,vector- (ro): Planet Labs Scenes API\n",
      "  HTTP -raster,vector- (ro): HTTP Fetching Wrapper\n"
     ]
    }
   ],
   "source": [
    "; gdal_translate --formats"
   ]
  },
  {
   "cell_type": "markdown",
   "metadata": {},
   "source": [
    "The letters between parenthesits after the format short name indicate the capabilities :\n",
    "- `ro` means read-only\n",
    "- `rw` means read and one-time creation only\n",
    "- `rw+` means read, create and update\n",
    "- The `v` signs means that it support virtual files, we will see that later.\n",
    "\n",
    "So the GIF driver support read and one-time creation, which is enough for gdal_translate. So let's\n",
    "correct our last attempt to specify the output format with -of :"
   ]
  },
  {
   "cell_type": "code",
   "execution_count": 27,
   "metadata": {
    "collapsed": false
   },
   "outputs": [
    {
     "name": "stdout",
     "output_type": "stream",
     "text": [
      "Input file size is 1831, 1835\n",
      "0...10...20...30...40...50...60...70...80...90...100 - done.\n"
     ]
    }
   ],
   "source": [
    "; gdal_translate -of GIF gdalworkshop/wellington_west.png gdalworkshop/wellington_west.gif"
   ]
  },
  {
   "cell_type": "markdown",
   "metadata": {},
   "source": [
    "### Adding georeferencing\n",
    "Let's look at wellington_west.png with gdalinfo. A long list of quadruplets is displayed. It is a color table. This image has a single band with Byte values, that point to 256 coded colors. Use -noct to disable the display of this color table."
   ]
  },
  {
   "cell_type": "code",
   "execution_count": 28,
   "metadata": {
    "collapsed": false
   },
   "outputs": [
    {
     "name": "stdout",
     "output_type": "stream",
     "text": [
      "Driver: PNG/Portable Network Graphics\n",
      "Files: gdalworkshop/wellington_west.png\n",
      "       gdalworkshop/wellington_west.wld\n",
      "Size is 1831, 1835\n",
      "Coordinate System is `'\n",
      "Origin = (1731543.836827248800546,5461586.738620690070093)\n",
      "Pixel Size = (28.001501693600002,-28.001034482800002)\n",
      "Corner Coordinates:\n",
      "Upper Left  ( 1731543.837, 5461586.739) \n",
      "Lower Left  ( 1731543.837, 5410204.840) \n",
      "Upper Right ( 1782814.586, 5461586.739) \n",
      "Lower Right ( 1782814.586, 5410204.840) \n",
      "Center      ( 1757179.212, 5435895.789) \n",
      "Band 1 Block=1831x1 Type=Byte, ColorInterp=Palette\n",
      "  Color Table (RGB with 256 entries)\n"
     ]
    }
   ],
   "source": [
    "; gdalinfo -noct gdalworkshop/wellington_west.png"
   ]
  },
  {
   "cell_type": "markdown",
   "metadata": {},
   "source": [
    "We can see the presence of georeferenced coordinates (Origin and Pixel Size), that comes from wellington_west.wld, a World File. This is a 6 line text file that gives the information needed to build the 6-value geo-transformation matrix. Note that the order of values and their semantics are not exactly the same (World File use center of pixel convention), but GDAL will make the needed conversions.\n",
    "\n",
    "But here we lack the Coordinate System. We must use external knowedge here to fill the gap. This dataset being from New Zealand and the coordinates being obviously not longitudes/latitudes, we could assume that this dataset is in the New Zealand Transverse Mercator (NTZM) map projection (for example by searching New Zealand in http://epsg.io/?q=new+zealand), and this is indeed the case. This coordinate system is codified by the EPSG (European Petroleum Survey Group) as being « EPSG:2193 »\n",
    "\n",
    "We can see its definition with:"
   ]
  },
  {
   "cell_type": "code",
   "execution_count": 29,
   "metadata": {
    "collapsed": false
   },
   "outputs": [
    {
     "name": "stdout",
     "output_type": "stream",
     "text": [
      "\n",
      "PROJ.4 : '+proj=tmerc +lat_0=0 +lon_0=173 +k=0.9996 +x_0=1600000 +y_0=10000000 +ellps=GRS80 +towgs84=0,0,0,0,0,0,0 +units=m +no_defs '\n",
      "\n",
      "OGC WKT :\n",
      "PROJCS[\"NZGD2000 / New Zealand Transverse Mercator 2000\",\n",
      "    GEOGCS[\"NZGD2000\",\n",
      "        DATUM[\"New_Zealand_Geodetic_Datum_2000\",\n",
      "            SPHEROID[\"GRS 1980\",6378137,298.257222101,\n",
      "                AUTHORITY[\"EPSG\",\"7019\"]],\n",
      "            TOWGS84[0,0,0,0,0,0,0],\n",
      "            AUTHORITY[\"EPSG\",\"6167\"]],\n",
      "        PRIMEM[\"Greenwich\",0,\n",
      "            AUTHORITY[\"EPSG\",\"8901\"]],\n",
      "        UNIT[\"degree\",0.0174532925199433,\n",
      "            AUTHORITY[\"EPSG\",\"9122\"]],\n",
      "        AUTHORITY[\"EPSG\",\"4167\"]],\n",
      "    PROJECTION[\"Transverse_Mercator\"],\n",
      "    PARAMETER[\"latitude_of_origin\",0],\n",
      "    PARAMETER[\"central_meridian\",173],\n",
      "    PARAMETER[\"scale_factor\",0.9996],\n",
      "    PARAMETER[\"false_easting\",1600000],\n",
      "    PARAMETER[\"false_northing\",10000000],\n",
      "    UNIT[\"metre\",1,\n",
      "        AUTHORITY[\"EPSG\",\"9001\"]],\n",
      "    AUTHORITY[\"EPSG\",\"2193\"]]\n",
      "\n"
     ]
    }
   ],
   "source": [
    "; gdalsrsinfo EPSG:2193"
   ]
  },
  {
   "cell_type": "markdown",
   "metadata": {},
   "source": [
    "Now let us create a GeoTIFF from that:"
   ]
  },
  {
   "cell_type": "code",
   "execution_count": 30,
   "metadata": {
    "collapsed": false
   },
   "outputs": [
    {
     "name": "stdout",
     "output_type": "stream",
     "text": [
      "Input file size is 1831, 1835\n",
      "0...10...20...30...40...50...60...70...80...90...100 - done.\n"
     ]
    }
   ],
   "source": [
    "; gdal_translate -a_srs EPSG:2193 gdalworkshop/wellington_west.png gdalworkshop/wellington_west.tif"
   ]
  },
  {
   "cell_type": "markdown",
   "metadata": {},
   "source": [
    "Let's look at the result:"
   ]
  },
  {
   "cell_type": "code",
   "execution_count": 31,
   "metadata": {
    "collapsed": false
   },
   "outputs": [
    {
     "name": "stdout",
     "output_type": "stream",
     "text": [
      "Driver: GTiff/GeoTIFF\n",
      "Files: gdalworkshop/wellington_west.tif\n",
      "Size is 1831, 1835\n",
      "Coordinate System is:\n",
      "PROJCS[\"NZGD2000 / New Zealand Transverse Mercator 2000\",\n",
      "    GEOGCS[\"NZGD2000\",\n",
      "        DATUM[\"New_Zealand_Geodetic_Datum_2000\",\n",
      "            SPHEROID[\"GRS 1980\",6378137,298.257222101,\n",
      "                AUTHORITY[\"EPSG\",\"7019\"]],\n",
      "            TOWGS84[0,0,0,0,0,0,0],\n",
      "            AUTHORITY[\"EPSG\",\"6167\"]],\n",
      "        PRIMEM[\"Greenwich\",0,\n",
      "            AUTHORITY[\"EPSG\",\"8901\"]],\n",
      "        UNIT[\"degree\",0.0174532925199433,\n",
      "            AUTHORITY[\"EPSG\",\"9122\"]],\n",
      "        AUTHORITY[\"EPSG\",\"4167\"]],\n",
      "    PROJECTION[\"Transverse_Mercator\"],\n",
      "    PARAMETER[\"latitude_of_origin\",0],\n",
      "    PARAMETER[\"central_meridian\",173],\n",
      "    PARAMETER[\"scale_factor\",0.9996],\n",
      "    PARAMETER[\"false_easting\",1600000],\n",
      "    PARAMETER[\"false_northing\",10000000],\n",
      "    UNIT[\"metre\",1,\n",
      "        AUTHORITY[\"EPSG\",\"9001\"]],\n",
      "    AUTHORITY[\"EPSG\",\"2193\"]]\n",
      "Origin = (1731543.836827248800546,5461586.738620690070093)\n",
      "Pixel Size = (28.001501693600002,-28.001034482800002)\n",
      "Metadata:\n",
      "  AREA_OR_POINT=Area\n",
      "Image Structure Metadata:\n",
      "  INTERLEAVE=BAND\n",
      "Corner Coordinates:\n",
      "Upper Left  ( 1731543.837, 5461586.739) (174d33'49.52\"E, 40d59'10.66\"S)\n",
      "Lower Left  ( 1731543.837, 5410204.840) (174d34'29.34\"E, 41d26'56.27\"S)\n",
      "Upper Right ( 1782814.586, 5461586.739) (175d10'22.40\"E, 40d58'35.11\"S)\n",
      "Lower Right ( 1782814.586, 5410204.840) (175d11'17.70\"E, 41d26'20.14\"S)\n",
      "Center      ( 1757179.212, 5435895.789) (174d52'29.74\"E, 41d12'47.03\"S)\n",
      "Band 1 Block=1831x4 Type=Byte, ColorInterp=Palette\n",
      "  Color Table (RGB with 256 entries)\n"
     ]
    }
   ],
   "source": [
    "; gdalinfo -noct gdalworkshop/wellington_west.tif"
   ]
  },
  {
   "cell_type": "markdown",
   "metadata": {},
   "source": [
    "And let's check that the coordinate system we select is consistant by using the OGR geocoding API:"
   ]
  },
  {
   "cell_type": "code",
   "execution_count": 32,
   "metadata": {
    "collapsed": false
   },
   "outputs": [
    {
     "name": "stdout",
     "output_type": "stream",
     "text": [
      "\n",
      "Layer name: SELECT\n",
      "OGRFeature(SELECT):0\n",
      "  POINT (174.7772239 -41.2887639)\n",
      "\n"
     ]
    }
   ],
   "source": [
    "; ogrinfo :memory: -q -sql \"SELECT ogr_geocode('Wellington, New Zealand')\" "
   ]
  },
  {
   "cell_type": "markdown",
   "metadata": {},
   "source": [
    "###  Subsetting (extracting a sub-window)\n",
    "Let's suppose we are only interested in a 4 km x 4 km area centered around Wellington city center.\n",
    "\n",
    "We will convert first the above longitude, latitude in NZGD2000 with :\n",
    "\n",
    "    $ gdaltransform -s_srs WGS84 -t_srs EPSG:2193\n",
    "    174.7772239 -41.2887639\n",
    "\n",
    "The command expects tuple of longitude/easting latitude/northing to be entered on the console and\n",
    "validated by Enter. The application may be terminated with Ctrl+Z.\n",
    "\n",
    "Output :\n",
    "\n",
    "    1748816.1501341 5427663.38112408 0\n",
    "\n",
    "So if we substract/add 2000 from this coordinate, we can do:"
   ]
  },
  {
   "cell_type": "code",
   "execution_count": 33,
   "metadata": {
    "collapsed": false
   },
   "outputs": [
    {
     "name": "stdout",
     "output_type": "stream",
     "text": [
      "Input file size is 1831, 1835\n",
      "Computed -srcwin 545 1140 143 143 from projected window.\n",
      "0...10...20...30...40...50...60...70...80...90...100 - done.\n"
     ]
    }
   ],
   "source": [
    "; gdal_translate -projwin 1746816 5429663 1750816 5425663 gdalworkshop/wellington_west.tif gdalworkshop/wellington_city.tif"
   ]
  },
  {
   "cell_type": "markdown",
   "metadata": {},
   "source": [
    "Conventions are « -projwin ulx uly lrx lry » where :\n",
    "- `ulx`: X of upper-left corner\n",
    "- `uly`: Y of upper-left corner\n",
    "- `lrx`: X of lower-right corner\n",
    "- `lry`: Y of lower-right corner"
   ]
  },
  {
   "cell_type": "markdown",
   "metadata": {},
   "source": [
    "### Data type conversion\n",
    "Let's look at a digital elevation model file:"
   ]
  },
  {
   "cell_type": "code",
   "execution_count": 34,
   "metadata": {
    "collapsed": false
   },
   "outputs": [
    {
     "name": "stdout",
     "output_type": "stream",
     "text": [
      "Driver: GTiff/GeoTIFF\n",
      "Files: gdalworkshop/MK_30m.tif\n",
      "Size is 2185, 2185\n",
      "Coordinate System is:\n",
      "PROJCS[\"NZGD2000 / New Zealand Transverse Mercator 2000\",\n",
      "    GEOGCS[\"NZGD2000\",\n",
      "        DATUM[\"New_Zealand_Geodetic_Datum_2000\",\n",
      "            SPHEROID[\"GRS 1980\",6378137,298.257222101,\n",
      "                AUTHORITY[\"EPSG\",\"7019\"]],\n",
      "            TOWGS84[0,0,0,0,0,0,0],\n",
      "            AUTHORITY[\"EPSG\",\"6167\"]],\n",
      "        PRIMEM[\"Greenwich\",0,\n",
      "            AUTHORITY[\"EPSG\",\"8901\"]],\n",
      "        UNIT[\"degree\",0.0174532925199433,\n",
      "            AUTHORITY[\"EPSG\",\"9122\"]],\n",
      "        AUTHORITY[\"EPSG\",\"4167\"]],\n",
      "    PROJECTION[\"Transverse_Mercator\"],\n",
      "    PARAMETER[\"latitude_of_origin\",0],\n",
      "    PARAMETER[\"central_meridian\",173],\n",
      "    PARAMETER[\"scale_factor\",0.9996],\n",
      "    PARAMETER[\"false_easting\",1600000],\n",
      "    PARAMETER[\"false_northing\",10000000],\n",
      "    UNIT[\"metre\",1,\n",
      "        AUTHORITY[\"EPSG\",\"9001\"]],\n",
      "    AUTHORITY[\"EPSG\",\"2193\"]]\n",
      "Origin = (1703936.000000000000000,5439488.000000000000000)\n",
      "Pixel Size = (30.000000000000000,-30.000000000000000)\n",
      "Metadata:\n",
      "  AREA_OR_POINT=Point\n",
      "Image Structure Metadata:\n",
      "  COMPRESSION=DEFLATE\n",
      "  INTERLEAVE=BAND\n",
      "Corner Coordinates:\n",
      "Upper Left  ( 1703936.000, 5439488.000) (174d14'21.77\"E, 41d11'21.48\"S)\n",
      "Lower Left  ( 1703936.000, 5373938.000) (174d15' 2.45\"E, 41d46'46.57\"S)\n",
      "Upper Right ( 1769486.000, 5439488.000) (175d 1'14.35\"E, 41d10'41.67\"S)\n",
      "Lower Right ( 1769486.000, 5373938.000) (175d 2'20.64\"E, 41d46' 5.92\"S)\n",
      "Center      ( 1736711.000, 5406713.000) (174d38'14.80\"E, 41d28'46.35\"S)\n",
      "Band 1 Block=2185x1 Type=Float32, ColorInterp=Gray\n",
      "    Computed Min/Max=0.000,928.151\n",
      "  NoData Value=-32767\n"
     ]
    }
   ],
   "source": [
    "; gdalinfo -mm gdalworkshop/MK_30m.tif"
   ]
  },
  {
   "cell_type": "markdown",
   "metadata": {},
   "source": [
    "The -mm option computes only the min/max values. We can also see a NoData value being advertized. The NoData value is a special value which means that pixel that have that value have no valid information. The NoData value is ignored in min/max, statistics or histogram computations.\n",
    "\n",
    "We might want to generate a more convenient visual dataset from the DEM with:"
   ]
  },
  {
   "cell_type": "code",
   "execution_count": 35,
   "metadata": {
    "collapsed": false
   },
   "outputs": [
    {
     "name": "stdout",
     "output_type": "stream",
     "text": [
      "Input file size is 2185, 2185\n",
      "0...10...20...30...40...50...60...70...80...90...100 - done.\n"
     ]
    }
   ],
   "source": [
    "; gdal_translate -outsize 50% 50% -ot Byte -of PNG gdalworkshop/MK_30m.tif gdalworkshop/MK_vis.png"
   ]
  },
  {
   "cell_type": "markdown",
   "metadata": {},
   "source": [
    "- `-outsize 50% 50%` is just to get a half-size reduction. Note that gdal_translate uses nearest neighbour sampling, which is not always appropriate. gdalwarp can be used for other resampling methods.\n",
    "-  `-ot Byte`: asks for data type conversion"
   ]
  },
  {
   "cell_type": "code",
   "execution_count": 36,
   "metadata": {
    "collapsed": false
   },
   "outputs": [],
   "source": [
    "using Images"
   ]
  },
  {
   "cell_type": "code",
   "execution_count": 37,
   "metadata": {
    "collapsed": false,
    "scrolled": true
   },
   "outputs": [
    {
     "data": {
      "image/png": "[encoded data removed]",
      "text/plain": [
       "Gray Images.Image with:\n",
       "  data: 1092x1092 Array{ColorTypes.Gray{FixedPointNumbers.UfixedBase{UInt8,8}},2}\n",
       "  properties:\n",
       "    imagedescription: <suppressed>\n",
       "    spatialorder:  x y\n",
       "    pixelspacing:  1 1"
      ]
     },
     "execution_count": 37,
     "metadata": {},
     "output_type": "execute_result"
    }
   ],
   "source": [
    "img = imread(\"gdalworkshop/MK_vis.png\")"
   ]
  },
  {
   "cell_type": "markdown",
   "metadata": {},
   "source": [
    "You can notice large zones saturated to white. Why so ? Because -ot does only data type conversion and clip values that would become out-of-range. So any elevation above 255 got clipped to 255. We also want to rescale the range [0,928.151] to [0,255]. We can do this by adding -scale"
   ]
  },
  {
   "cell_type": "code",
   "execution_count": 38,
   "metadata": {
    "collapsed": false
   },
   "outputs": [
    {
     "name": "stdout",
     "output_type": "stream",
     "text": [
      "Input file size is 2185, 2185\n",
      "0...10...20...30...40...50...60...70...80...90...100 - done.\n"
     ]
    }
   ],
   "source": [
    "; gdal_translate -outsize 50% 50% -ot Byte -scale -of PNG gdalworkshop/MK_30m.tif gdalworkshop/MK_vis.png"
   ]
  },
  {
   "cell_type": "markdown",
   "metadata": {},
   "source": [
    "You can control more precisely the rescaling with:\n",
    "\n",
    "    -scale src_min src_max\n",
    "\n",
    "or\n",
    "\n",
    "    -scale src_min src_max dst_min dst_max\n",
    "\n",
    "When not specifying dst_min and dst_max, 0 and 255 are selected. When not specifying src_min and src_max, the minimum/maximum values of the dataset are used.\n",
    "\n",
    "You can also experiment with non-linear scaling with the -exponent value. For example try with -exponent 0.9. This will give an image slightly brighter. For reference, the destination value (dst_val) is computed from the (src_val) according to the following formula :\n",
    "\n",
    "    dst_val = dst_min + (dst_max – dst_min) * ((src_val-src_min)/(src_max – src_min)) ^ exponent"
   ]
  },
  {
   "cell_type": "code",
   "execution_count": null,
   "metadata": {
    "collapsed": true
   },
   "outputs": [],
   "source": []
  }
 ],
 "metadata": {
  "kernelspec": {
   "display_name": "Julia 0.4.0-pre",
   "language": "julia",
   "name": "julia-0.4"
  },
  "language_info": {
   "file_extension": ".jl",
   "mimetype": "application/julia",
   "name": "julia",
   "version": "0.4.0"
  }
 },
 "nbformat": 4,
 "nbformat_minor": 0
}
